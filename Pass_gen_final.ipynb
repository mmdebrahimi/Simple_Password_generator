{
 "cells": [
  {
   "cell_type": "code",
   "execution_count": 13,
   "metadata": {},
   "outputs": [
    {
     "name": "stdout",
     "output_type": "stream",
     "text": [
      "Please enter the website name: www.gmail.com\n",
      "Please enter your email: test@gmail.com\n",
      "                          User Name              Password           Email\n",
      "www.gmail.com  yUv4cPX74qETU8Sfzq0l  sqFxWPOGd1#r*wB7KxKd  test@gmail.com\n"
     ]
    }
   ],
   "source": [
    "'''\n",
    "#My advice is to put this password in a protected folder hashed with a software \n",
    "#(like VeraCrypt) in order to make sure you have increased safety\n",
    "#you can also print the passwords and keep them in a safe spot - make sure to shred\n",
    "#the files if you don't want anyone to have unauthorized access to them\n",
    "'''\n",
    "\n",
    "#importing necessary libraries\n",
    "import ipywidgets\n",
    "import pandas as pd\n",
    "import string\n",
    "import random\n",
    "import csv\n",
    "from datetime import datetime as dt\n",
    "\n",
    "\n",
    "#get user input for username and website name\n",
    "website_name = input(\"Please enter the website name: \")\n",
    "#user_name = input(\"Please enter your username: \")\n",
    "email = input(\"Please enter your email: \")\n",
    "#define dropdown menue\n",
    "drop_down = ipywidgets.Dropdown(options=list(range(15, 21)),\n",
    "                                value=20,\n",
    "                                description='Number:',\n",
    "                                disabled=False,\n",
    "                                )\n",
    "\n",
    "#function to generate random password\n",
    "def Generate_password(length):\n",
    "    import string\n",
    "    import random\n",
    "    password_choices = string.ascii_letters + '1234567890' + '!@#$%^&*()_-+'\n",
    "    user_choices = string.ascii_letters + '1234567890'\n",
    "    password = [random.choice(password_choices) for _ in range(length)]\n",
    "    user_name = [random.choice(user_choices) for _ in range(length)]\n",
    "    pw = \"\".join(password)\n",
    "    user =  \"\".join(user_name)\n",
    "    return pw, user\n",
    "    \n",
    "    \n",
    "\n",
    "pw, user = Generate_password(20)\n",
    "#pw = Generate_password(drop_down.value)\n",
    "#print(pw)\n",
    "#get answer in form of DataFrame\n",
    "final = {website_name: [user, pw, email]}\n",
    "final = pd.DataFrame(final)\n",
    "\n",
    "pd.DataFrame.reset_index(final, drop=True, inplace=True)\n",
    "\n",
    "\n",
    "#rename the titles\n",
    "final = final.rename({0 : 'User Name', 1 : 'Password', 2 : 'Email'})\n",
    "final = final.T\n",
    "print(final)\n",
    "#save to csv\n",
    "\n",
    "final.to_csv('passlist.csv')\n",
    "#enable if you want passwords to be saved in a file named based on date\n",
    "#final.to_csv('pass_list{}.csv'.format(dt.now().strftime('%Y-%m-%d')), mode='a', header=True)\n",
    "\n",
    "\n",
    "\n",
    "#with open(r'pass_list.csv', 'a') as f:\n",
    "#    writer = csv.writer(f)\n",
    "#    writer.writerow(final)\n",
    "    #writer.save()"
   ]
  },
  {
   "cell_type": "code",
   "execution_count": null,
   "metadata": {},
   "outputs": [],
   "source": []
  }
 ],
 "metadata": {
  "kernelspec": {
   "display_name": "Python 3",
   "language": "python",
   "name": "python3"
  },
  "language_info": {
   "codemirror_mode": {
    "name": "ipython",
    "version": 3
   },
   "file_extension": ".py",
   "mimetype": "text/x-python",
   "name": "python",
   "nbconvert_exporter": "python",
   "pygments_lexer": "ipython3",
   "version": "3.7.3"
  }
 },
 "nbformat": 4,
 "nbformat_minor": 4
}
